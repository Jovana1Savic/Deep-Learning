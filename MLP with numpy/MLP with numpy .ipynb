{
 "cells": [
  {
   "cell_type": "markdown",
   "metadata": {},
   "source": [
    "# MLP with numpy"
   ]
  },
  {
   "cell_type": "code",
   "execution_count": 1,
   "metadata": {},
   "outputs": [],
   "source": [
    "import tqdm_utils"
   ]
  },
  {
   "cell_type": "code",
   "execution_count": null,
   "metadata": {},
   "outputs": [],
   "source": []
  },
  {
   "cell_type": "code",
   "execution_count": 2,
   "metadata": {},
   "outputs": [],
   "source": [
    "from __future__ import print_function\n",
    "import numpy as np\n"
   ]
  },
  {
   "cell_type": "markdown",
   "metadata": {},
   "source": [
    "Main class - default layer that does nothing."
   ]
  },
  {
   "cell_type": "code",
   "execution_count": 3,
   "metadata": {},
   "outputs": [],
   "source": [
    "class Layer:\n",
    "    \"\"\"\n",
    "    A building block. Each layer is capable of performing two things:\n",
    "    \n",
    "    - Process input to get output:           output = layer.forward(input)\n",
    "    \n",
    "    - Propagate gradients through itself:    grad_input = layer.backward(input, grad_output)\n",
    "    \n",
    "    Some layers also have learnable parameters which they update during layer.backward.\n",
    "    \"\"\"\n",
    "    def __init__(self):\n",
    "        \"\"\"Here you can initialize layer parameters (if any) and auxiliary stuff.\"\"\"\n",
    "        # A dummy layer does nothing\n",
    "        pass\n",
    "    \n",
    "    def weights_sum(self):\n",
    "        return 0\n",
    "    \n",
    "    def forward(self, input):\n",
    "        \"\"\"\n",
    "        Takes input data of shape [batch, input_units], returns output data [batch, output_units]\n",
    "        \"\"\"\n",
    "        # A dummy layer just returns whatever it gets as input.\n",
    "        return input\n",
    "\n",
    "    def backward(self, input, grad_output):\n",
    "        \"\"\"\n",
    "        Performs a backpropagation step through the layer, with respect to the given input.\n",
    "        \n",
    "        To compute loss gradients w.r.t input, you need to apply chain rule (backprop):\n",
    "        \n",
    "        d loss / d x  = (d loss / d layer) * (d layer / d x)\n",
    "        \n",
    "        Luckily, you already receive d loss / d layer as input, so you only need to multiply it by d layer / d x.\n",
    "        \n",
    "        If your layer has parameters (e.g. dense layer), you also need to update them here using d loss / d layer\n",
    "        \"\"\"\n",
    "        # The gradient of a dummy layer is precisely grad_output, but we'll write it more explicitly\n",
    "        num_units = input.shape[1]\n",
    "        \n",
    "        d_layer_d_input = np.eye(num_units)\n",
    "        \n",
    "        return np.dot(grad_output, d_layer_d_input) # chain rule"
   ]
  },
  {
   "cell_type": "markdown",
   "metadata": {},
   "source": [
    "### Layers\n",
    "\n",
    "* Dense layer - performs $X \\cdot W + \\vec{b} = Z$ where $i$-th row of $X$ represents $i$-th sample, $j$-th column in $W$ represents weights for $j$-th's output and $\\vec{b}$ is a row vector where $j$-th elements corresponds to bias related to $j$-th output.\n",
    "* Non-linear layer - performs non linear functions such as ReLU and Sigmoid on inputs and returns a output matrix where the same function was applied to each element."
   ]
  },
  {
   "cell_type": "markdown",
   "metadata": {},
   "source": [
    "## 1. Dense layer\n",
    "\n",
    "Let $L$ be the number of samples in a batch, $n$ number of input nodes and $m$ number of output nodes. \n",
    "\n",
    "$\\text{dim}(X) = L \\times n$, $\\text{dim}(W) = n \\times m$, $\\text{dim}(b) = 1 \\times m$ and $\\text{dim}(Z) = L \\times m$.\n",
    "\n",
    "#### Initialization\n",
    "\n",
    "Xavier initialization is available, as well as default one. Default initialization works fine, but it will \"break\" things if we use deeper neural networks (as it will be shown bellow). \n",
    "\n",
    "\n",
    "#### Forward pass\n",
    "\n",
    "$X \\cdot W + \\vec{b} = Z$\n",
    "\n",
    "#### Backward pass \n",
    "\n",
    "Further along we'll define a loss function, for now, let's just say that this function will show us how big of an error we are making, that is assume that $Loss = f(Error) = L$. If we want to apply L2 regularization, we also want to minimize absolute values of weights (because it has been shown that overfitting and big weights tend to go together). Since this is optimization of a function under given condition it can be written as:\n",
    "\n",
    "$Loss = L + \\sum_{i} \\alpha w_i^2$\n",
    "\n",
    "Lagrange multiplier $\\alpha$ will be our `regularization` factor. \n",
    "\n",
    "When doing stochastic gradient descent, we want to move in the direction in which the function is getting smaller the fastest, therefore, when we are at some point defined by matrix $W$ and vector of biases $\\vec{b}$ we want to move away from that point in the direction opposite of gradient of a loss function (in that point). \n",
    "\n",
    "This can be written as:\n",
    "\n",
    "$W_{t+1} = W_{t} - \\gamma \\frac{\\partial L}{\\partial W} - 2\\gamma \\alpha W_t$\n",
    "\n",
    "$\\vec{b}_{t+1} = \\vec{b}_{t} - \\gamma \\frac{\\partial L}{\\partial b}$\n",
    "\n",
    "where $\\gamma$ denotes the size of the step that we are taking, or `learning_rate`, and $t$ is the value of parameters in $t$-th iteration.\n",
    "\n",
    "If we go back to the forward pass formula and find the partial derivative, we get:\n",
    "\n",
    "$\\large \\frac{\\partial L}{\\partial X} =  \\frac{\\partial L}{\\partial Z} \\frac{\\partial Z}{\\partial X} =   \\frac{\\partial L}{\\partial Z}\\frac{\\partial (XW)}{\\partial X}= \\cdot\\frac{\\partial L}{\\partial Z}^T \\cdot W$\n",
    "\n",
    "$ \\large \\frac{\\partial L}{\\partial W} = \\frac{\\partial Z}{\\partial W} \\frac{\\partial L}{\\partial Z}  =  \\frac{\\partial (XW)}{\\partial W} \\frac{\\partial L}{\\partial Z}=X^T \\cdot \\frac{\\partial L}{\\partial Z}$\n",
    "\n",
    "$ \\large \\frac{\\partial L}{\\partial \\bf{b}} = \\frac{\\partial Z}{\\partial \\bf{b}} \\frac{\\partial L}{\\partial Z}  =  \\frac{\\partial \\bf b}{\\partial \\bf b} \\frac{\\partial L}{\\partial Z}=I \\cdot\\frac{\\partial L}{\\partial Z}$\n",
    "\n",
    "The partial derivative of loss function over gradient will be the input gradient (in context of backpropagation) coming from the layer in front, and the current layer will return its partial derivative which can be propagated further back. Based on the above formulas we get the implementation for backpropagation.<br>\n",
    "Note that actual weight gradient is a bit different if we use regularization, we need to add the term $2 \\alpha W$ but it's been omitted above since the partial derivative over $Z$ doesn't depend on it. In other words, only the parts of derivative dependent on $Z$ are included above. \n",
    "\n",
    "* Backward pass - finds gradients and performs gradient descent\n",
    "\n",
    "$\\triangledown_{X} = \\triangledown_{Z}^T \\cdot W$\n",
    "\n",
    "$\\triangledown_{b} = I \\cdot \\triangledown_{Z}$\n",
    "\n",
    "$\\triangledown_{W} = X^T \\cdot \\triangledown_{Z} + 2\\alpha W$\n",
    "\n",
    "$W = W - \\gamma\\triangledown_{W}$ \n",
    "\n",
    "$b = b - \\gamma \\triangledown_{b}$\n",
    "\n",
    "*Although matrix multiplication in itself isn't commutative, when doing differentiation, depending on the layout we take, we can transpose the results to get a different layout. And it's know that transposing a product is equivallent to switching places and transposing arguments.*"
   ]
  },
  {
   "cell_type": "code",
   "execution_count": 26,
   "metadata": {},
   "outputs": [],
   "source": [
    "class Dense(Layer):\n",
    "    def __init__(self, input_units, output_units, Xavier=False, learning_rate=0.1, regularization = 0):\n",
    "        \"\"\"\n",
    "        A dense layer is a layer which performs a learned affine transformation:\n",
    "        f(x) = <W*x> + b\n",
    "        \n",
    "        -Xavier initialization - initialize weights with random values of uniform distribution with variance \n",
    "        2 / (input_units + output_units). Use this for deep networks.\n",
    "        \n",
    "        -Default initialization - initialize weights with random values of normal distribution with sigma=0.01\n",
    "        \n",
    "        -Use regularization to punish high values for weights. \n",
    "        \"\"\"\n",
    "        self.learning_rate = learning_rate\n",
    "        self.regularization = regularization\n",
    "        \n",
    "        if (Xavier):\n",
    "            var = 2 / (input_units + output_units)\n",
    "            low = -np.sqrt(3 * var)\n",
    "            high = np.sqrt(3 * var)\n",
    "            self.weights = np.random.uniform(low, high, (input_units, output_units))\n",
    "        else:\n",
    "            self.weights = np.random.randn(input_units, output_units)*0.01\n",
    "        self.biases = np.zeros(output_units)\n",
    "        \n",
    "        \n",
    "        \n",
    "    def forward(self,input):\n",
    "        \"\"\"\n",
    "        Perform an affine transformation:\n",
    "        f(x) = <W*x> + b\n",
    "        \n",
    "        input shape: [batch, input_units]\n",
    "        output shape: [batch, output units]\n",
    "        \"\"\"\n",
    "        return np.dot(input, self.weights) + self.biases\n",
    "    \n",
    "    def backward(self,input,grad_output):\n",
    "        \n",
    "        # compute d f / d x \n",
    "        grad_input = np.dot(grad_output, self.weights.T)\n",
    "        \n",
    "        # compute gradient w.r.t. weights and biases\n",
    "        grad_weights = np.dot(input.T, grad_output) + self.regularization * self.weights\n",
    "        grad_biases = (np.sum(grad_output,axis=0)).T\n",
    "        \n",
    "        # Here we perform a stochastic gradient descent step. \n",
    "        self.weights = self.weights - self.learning_rate * grad_weights\n",
    "        self.biases = self.biases - self.learning_rate * grad_biases\n",
    "        \n",
    "        return grad_input\n",
    "    \n",
    "    def weights_sum(self):\n",
    "        \"\"\"\n",
    "        Return the sum of squares of weight parameters (used when L2 regularization is selected.)\n",
    "        \"\"\"\n",
    "        if (self.regularization == 0):\n",
    "            return 0\n",
    "        return np.sum(np.square(self.weights)) * self.regularization / np.prod(self.weights.shape)"
   ]
  },
  {
   "cell_type": "markdown",
   "metadata": {},
   "source": [
    "### Dense Layer for Momentum Gradient Descent\n",
    "\n",
    "In momentum gradient descent we use the following formula for new weights and biases:\n",
    "\n",
    "$H_{W, t +1} = \\alpha H_{W,t} + (1-\\alpha) \\triangledown_W$\n",
    "\n",
    "$W_{t+1} = W_{t} -\\gamma H_{W, t}$\n",
    "\n",
    "$H_{b, t +1} = \\alpha H_{b,t} + (1-\\alpha) \\triangledown_W$\n",
    "\n",
    "$W_{t+1} = W_{t} - \\gamma H_{b,t}$\n",
    "\n"
   ]
  },
  {
   "cell_type": "code",
   "execution_count": 31,
   "metadata": {},
   "outputs": [],
   "source": [
    "class DenseMomentum(Layer):\n",
    "    def __init__(self, input_units, output_units, Xavier=False, learning_rate=0.1, regularization = 0, alpha = 0.9):\n",
    "        \"\"\"\n",
    "        A dense layer is a layer which performs a learned affine transformation:\n",
    "        f(x) = <W*x> + b\n",
    "        \n",
    "        -Xavier initialization - initialize weights with random values of uniform distribution with variance \n",
    "        2 / (input_units + output_units). Use this for deep networks.\n",
    "        \n",
    "        -Default initialization - initialize weights with random values of normal distribution with sigma=0.01\n",
    "        \n",
    "        -Use regularization to punish high values for weights. \n",
    "        \"\"\"\n",
    "        self.learning_rate = learning_rate\n",
    "        self.regularization = regularization\n",
    "        self.alpha = alpha\n",
    "        \n",
    "        if (Xavier):\n",
    "            var = 2 / (input_units + output_units)\n",
    "            low = -np.sqrt(3 * var)\n",
    "            high = np.sqrt(3 * var)\n",
    "            self.weights = np.random.uniform(low, high, (input_units, output_units))\n",
    "        else:\n",
    "            self.weights = np.random.randn(input_units, output_units)*0.01\n",
    "        self.biases = np.zeros(output_units)\n",
    "        \n",
    "        self.h_w = np.zeros((input_units, output_units))\n",
    "        self.h_b = np.zeros((output_units))\n",
    "        \n",
    "    def forward(self,input):\n",
    "        \"\"\"\n",
    "        Perform an affine transformation:\n",
    "        f(x) = <W*x> + b\n",
    "        \n",
    "        input shape: [batch, input_units]\n",
    "        output shape: [batch, output units]\n",
    "        \"\"\"\n",
    "        return np.dot(input, self.weights) + self.biases\n",
    "    \n",
    "    def backward(self,input,grad_output):\n",
    "        \n",
    "        # compute d f / d x \n",
    "        grad_input = np.dot(grad_output, self.weights.T)\n",
    "        \n",
    "        # compute gradient w.r.t. weights and biases\n",
    "        grad_weights = np.dot(input.T, grad_output) + self.regularization * self.weights\n",
    "        grad_biases = (np.sum(grad_output,axis=0)).T\n",
    "        \n",
    "        self.h_w = self.alpha * self.h_w + (1 - self.alpha) * grad_weights\n",
    "        self.h_b = self.alpha * self.h_b + (1 - self.alpha)  * grad_biases\n",
    "        \n",
    "        # Here we perform a stochastic gradient descent step. \n",
    "        self.weights = self.weights - self.learning_rate * self.h_w\n",
    "        self.biases = self.biases - self.learning_rate * self.h_b\n",
    "        \n",
    "        return grad_input\n",
    "    \n",
    "    def weights_sum(self):\n",
    "        \"\"\"\n",
    "        Return the sum of squares of weight parameters (used when L2 regularization is selected.)\n",
    "        \"\"\"\n",
    "        if (self.regularization == 0):\n",
    "            return 0\n",
    "        return np.sum(np.square(self.weights)) * self.regularization / np.prod(self.weights.shape)"
   ]
  },
  {
   "cell_type": "markdown",
   "metadata": {},
   "source": [
    "## 2. Non-linear layers\n",
    "\n",
    "These are the easier ones. We will implement ReLU and sigmoid layers.\n"
   ]
  },
  {
   "cell_type": "markdown",
   "metadata": {},
   "source": [
    "### ReLU layer\n",
    "\n",
    "ReLU function is pretty simple:\n",
    "\n",
    "$\\text{ReLU}(X) = max(0, X)$\n",
    "\n",
    "That solves our forward pass. \n",
    "\n",
    "As for backward pass, we know that in places where input was zero or smaller, the function isn't dependent on input, and where it is, the derivative is just 1. "
   ]
  },
  {
   "cell_type": "code",
   "execution_count": 6,
   "metadata": {},
   "outputs": [],
   "source": [
    "class ReLU(Layer):\n",
    "    def __init__(self):\n",
    "        \"\"\"ReLU layer simply applies elementwise rectified linear unit to all inputs\"\"\"\n",
    "        pass\n",
    "    \n",
    "    def forward(self, input):\n",
    "        \"\"\"Apply elementwise ReLU to [batch, input_units] matrix\"\"\"\n",
    "        return np.maximum(input, 0)\n",
    "    \n",
    "    def backward(self, input, grad_output):\n",
    "        \"\"\"Compute gradient of loss w.r.t. ReLU input\"\"\"\n",
    "        relu_grad = input > 0\n",
    "        return grad_output*relu_grad  "
   ]
  },
  {
   "cell_type": "markdown",
   "metadata": {},
   "source": [
    "### Sigmoid layer\n",
    "\n",
    "Sigmoid function is defined by:\n",
    "\n",
    "$\\sigma(X) = \\large \\frac{1}{1+e^{-X}}$\n",
    "\n",
    "Again, we use chain rule:\n",
    "\n",
    "$\\large \\frac{\\partial L}{\\partial X} = \\frac{\\partial Z}{\\partial X} \\frac{\\partial (\\sigma(X))}{\\partial X}$\n",
    "\n",
    "It can be shown that the derivative of sigmoid function is:\n",
    "\n",
    "$\\large \\frac{\\partial (\\sigma(X))}{\\partial X} = \\sigma(X)(1 - \\sigma(X))$\n",
    "\n",
    "Where multiplication is again done element-wise. "
   ]
  },
  {
   "cell_type": "code",
   "execution_count": 7,
   "metadata": {},
   "outputs": [],
   "source": [
    "def sigmoidFun(x):\n",
    "    return 1/(1 + np.exp(-x)) \n",
    "\n",
    "class Sigmoid(Layer):\n",
    "    def __init__(self):\n",
    "        \"\"\"Sigmoid layer simply applies elementwise sigmoid to all inputs\"\"\"\n",
    "        pass\n",
    "    \n",
    "    def forward(self, input):\n",
    "        \"\"\"Apply elementwise Sigmoid to [batch, input_units] matrix\"\"\"\n",
    "        return sigmoidFun(input)\n",
    "    \n",
    "    def backward(self, input, grad_output):\n",
    "        \"\"\"Compute gradient of loss w.r.t. ReLU input\"\"\"\n",
    "        sigmoid_grad = sigmoidFun(input) - np.square(sigmoidFun(input))\n",
    "        return grad_output*sigmoid_grad  "
   ]
  },
  {
   "cell_type": "markdown",
   "metadata": {},
   "source": [
    "## 3. Loss function\n",
    "\n",
    "A loss, or a cost function, is the heart of training a neural network. Training a network is basically values of weights and biases for which the loss function is minimal. Like said above, the loss function is going to tell us how big of a mistake we are making. \n",
    "\n",
    "The last layer should have as many columns as there are different classes into which data needs to be separated. Each node will tell us about probability of the input being in its class. But, the nodes can have different values which are not in (0,1) range. In order to interpret them as probabilities we should normalize them in a way that will put them in the right range, and the comparative relationships between them should not change.\n",
    "\n",
    "For that we use softmax function, which is defined by bellow formula:\n",
    "\n",
    "$\\sigma(z_i)=p_i = \\large \\frac{e^{z_i}}{\\sum_{j=1}^{K} e^{z_j}}$\n",
    "\n",
    "Where $z_i$ is the value at $i$-th output node (or $i$-th column in output matrix for given sample, if you wish), and there are $K$ classes.\n",
    "\n",
    "With this we define the probability of output $i$ being 1, that is $p_i$. The probabilty of that same output being 0 is just $1-p_i$. The actual probability of output is given by label (where label for one sample has $K$ columns where only one has value 1, denoting that that sample belongs to the class denoted by that column) $y$ and it's either 1 or 0 (it's either that class or not). \n",
    "\n",
    "We use cross entropy true and estimated distribution to define the difference between actual probability and the one given by neural network, that is, the error:\n",
    "\n",
    "$H(y_i, p_i) = -y_i \\log p_i$\n",
    "\n",
    "Since $y_i$ is 1 only for one class, and zero for other classes, we can write the above cross entropy for all classes as:\n",
    "\n",
    "$H(y, p) = \\large -\\log\\frac{e^{Z_y}}{\\sum_{i=1}^{K} e^{Z_i}}$\n",
    "\n",
    "This expression can be written as:\n",
    "\n",
    "$H(y, p) = -Z_y + \\log \\sum_{i=1}^{K} e^{Z_i}$\n",
    "\n",
    "Vector $Z$ in this case is the final output of the network and its values are called logits.\n",
    "\n",
    "Summing the above cross-entropy for all samples we get total cross-entropy. \n",
    "\n",
    "Here, it is very important to address the regularization part of the loss function. That part is obviously not included in cross-entropy, nor is it a part of gradient that's been propagated further. The gradient part can be added locally at each layer, as it's been done above. As for the loss function, that part will be added to the loss we obtain by using the function bellow. The class representing the network will be responsible for it. "
   ]
  },
  {
   "cell_type": "code",
   "execution_count": 8,
   "metadata": {},
   "outputs": [],
   "source": [
    "def softmax_crossentropy_with_logits(logits,reference_answers):\n",
    "    \"\"\"Compute crossentropy from logits[batch,n_classes] and ids of correct answers\"\"\"\n",
    "    logits_for_answers = logits[np.arange(len(logits)),reference_answers]\n",
    "    \n",
    "    xentropy = - logits_for_answers + np.log(np.sum(np.exp(logits),axis=-1))\n",
    "    \n",
    "    return xentropy"
   ]
  },
  {
   "cell_type": "markdown",
   "metadata": {},
   "source": [
    "Based on the above given formula for cross-entropy, we can find the derivative of total cross-entropy. For one sample, for which we have one corresponding output vector $Z$, it's:\n",
    "\n",
    "$\\large \\frac{\\partial H}{\\partial Z} = \\frac{\\partial (-Z_{y}+\\log\\sum_{j=k}^{K}e^{Z_j})}{\\partial Z}=-\\frac{\\partial Z_{y}}{\\partial Z} + \\frac{e^{Z}}{\\sum_{j=1}^{K}e^{Z_j}}$\n",
    "\n",
    "The partial derivative of $Z_{y,i}$ over $Z$ is just a vector that has 1 in the place where its class is, and zeros elsewhere (same shape as $Z$). \n",
    "\n",
    "The other part of the derivative is exponential function of given vector $Z$ and the sum of all of its components. \n",
    "\n",
    "Finally, we average out the result. "
   ]
  },
  {
   "cell_type": "code",
   "execution_count": 9,
   "metadata": {},
   "outputs": [],
   "source": [
    "def grad_softmax_crossentropy_with_logits(logits,reference_answers):\n",
    "    \"\"\"Compute crossentropy gradient from logits[batch,n_classes] and ids of correct answers\"\"\"\n",
    "    ones_for_answers = np.zeros_like(logits)\n",
    "    ones_for_answers[np.arange(len(logits)),reference_answers] = 1\n",
    "    \n",
    "    softmax = np.exp(logits) / np.exp(logits).sum(axis=-1,keepdims=True)\n",
    "    \n",
    "    return (- ones_for_answers + softmax) / logits.shape[0]"
   ]
  },
  {
   "cell_type": "markdown",
   "metadata": {},
   "source": [
    "## 4. Network\n",
    "\n",
    "A network is just a list of layers. We build a network and then we add layers we want. "
   ]
  },
  {
   "cell_type": "code",
   "execution_count": 10,
   "metadata": {},
   "outputs": [],
   "source": [
    "class Network:\n",
    "    def __init__(self):\n",
    "        \"\"\"Creates an empty neural network\"\"\"\n",
    "        self.network = []\n",
    "    \n",
    "    def addLayer(self, layer):\n",
    "        \"\"\" Appends given layer\"\"\"\n",
    "        self.network.append(layer)\n",
    "        \n",
    "    def forward(self, X):\n",
    "        \"\"\"\n",
    "        Compute activations of all network layers by applying them sequentially.\n",
    "        Return a list of activations for each layer. \n",
    "        Make sure last activation corresponds to network logits.\n",
    "        \"\"\"\n",
    "        activations = []\n",
    "        input = X\n",
    "\n",
    "        for layer in self.network:\n",
    "            activation = layer.forward(input)\n",
    "            activations.append(activation)\n",
    "            input = activation\n",
    "\n",
    "        assert len(activations) == len(self.network)\n",
    "        return activations\n",
    "\n",
    "    def predict(self,X):\n",
    "        \"\"\"\n",
    "        Compute network predictions.\n",
    "        \"\"\"\n",
    "        logits = self.forward(X)[-1]\n",
    "        return logits.argmax(axis=-1)\n",
    "        \n",
    "    def train(self,X,y):\n",
    "        \"\"\"\n",
    "        Train etwork on a given batch of X and y.\n",
    "        First, run forward to get all layer activations.\n",
    "        Then run layer.backward going from last to first layer.\n",
    "\n",
    "        After calling backward for all layers, all Dense layers have already made one gradient step.\n",
    "        \"\"\"\n",
    "\n",
    "        # Get the layer activations\n",
    "        layer_activations = self.forward(X)\n",
    "        layer_inputs = [X]+layer_activations  #layer_input[i] is an input for network[i]\n",
    "        logits = layer_activations[-1]\n",
    "\n",
    "        # Compute the loss and the initial gradient\n",
    "        sum_weights = np.sum([layer.weights_sum() for layer in self.network])\n",
    "        loss = softmax_crossentropy_with_logits(logits,y) + sum_weights\n",
    "        loss_grad = grad_softmax_crossentropy_with_logits(logits,y)\n",
    "\n",
    "        input_ind = -2\n",
    "        for layer in reversed(self.network):\n",
    "            loss_grad = layer.backward(layer_inputs[input_ind], loss_grad)\n",
    "            input_ind -= 1\n",
    "\n",
    "        return np.mean(loss)"
   ]
  },
  {
   "cell_type": "markdown",
   "metadata": {},
   "source": [
    "## 5. Training loop\n",
    "\n",
    "Finally, we split the data into batches and feed each batch into the network. "
   ]
  },
  {
   "cell_type": "code",
   "execution_count": 11,
   "metadata": {},
   "outputs": [],
   "source": [
    "def iterate_minibatches(inputs, targets, batchsize, shuffle=False):\n",
    "    assert len(inputs) == len(targets)\n",
    "    if shuffle:\n",
    "        indices = np.random.permutation(len(inputs))\n",
    "    for start_idx in tqdm_utils.tqdm_notebook_failsafe(range(0, len(inputs) - batchsize + 1, batchsize)):\n",
    "        if shuffle:\n",
    "            excerpt = indices[start_idx:start_idx + batchsize]\n",
    "        else:\n",
    "            excerpt = slice(start_idx, start_idx + batchsize)\n",
    "        yield inputs[excerpt], targets[excerpt]"
   ]
  },
  {
   "cell_type": "code",
   "execution_count": 12,
   "metadata": {},
   "outputs": [],
   "source": [
    "from IPython.display import clear_output"
   ]
  },
  {
   "cell_type": "code",
   "execution_count": 13,
   "metadata": {},
   "outputs": [],
   "source": [
    "def training_loop(network, inputs, targets, batchsize, shuffle=False):\n",
    "    train_log = []\n",
    "    val_log = []\n",
    "    \n",
    "    for epoch in range(25):\n",
    "\n",
    "        for x_batch,y_batch in iterate_minibatches(X_train,y_train,batchsize=32,shuffle=True):\n",
    "            network.train(x_batch,y_batch)\n",
    "\n",
    "        train_log.append(np.mean(network.predict(X_train)==y_train))\n",
    "        val_log.append(np.mean(network.predict(X_val)==y_val))\n",
    "\n",
    "        clear_output()\n",
    "        print(\"Epoch\",epoch)\n",
    "        print(\"Train accuracy:\",train_log[-1])\n",
    "        print(\"Val accuracy:\",val_log[-1])\n",
    "        plt.plot(train_log,label='train accuracy')\n",
    "        plt.plot(val_log,label='val accuracy')\n",
    "        plt.legend(loc='best')\n",
    "        plt.grid()\n",
    "        plt.show()"
   ]
  },
  {
   "cell_type": "markdown",
   "metadata": {},
   "source": [
    "# Testing our network \n",
    "\n",
    "We will test this network by classifying handwritten digits. We'll see what happens when we use stochastic gradient descent, as well as Adam's. We'll see how deep neural networks work when we use Xavier initialization and without it. Finally, we'll see how differently they behave when we use regularization. "
   ]
  },
  {
   "cell_type": "markdown",
   "metadata": {},
   "source": [
    "## Getting input"
   ]
  },
  {
   "cell_type": "code",
   "execution_count": 14,
   "metadata": {},
   "outputs": [
    {
     "data": {
      "image/png": "[encoded data removed]",
      "text/plain": [
       "<Figure size 432x432 with 4 Axes>"
      ]
     },
     "metadata": {
      "needs_background": "light"
     },
     "output_type": "display_data"
    }
   ],
   "source": [
    "import matplotlib.pyplot as plt\n",
    "%matplotlib inline\n",
    "\n",
    "from preprocessed_mnist import load_dataset\n",
    "X_train, y_train, X_val, y_val, X_test, y_test = load_dataset(flatten=True)\n",
    "\n",
    "plt.figure(figsize=[6,6])\n",
    "for i in range(4):\n",
    "    plt.subplot(2,2,i+1)\n",
    "    plt.title(\"Label: %i\"%y_train[i])\n",
    "    plt.imshow(X_train[i].reshape([28,28]),cmap='gray');"
   ]
  },
  {
   "cell_type": "markdown",
   "metadata": {},
   "source": [
    "## Simple network with 2 layers\n",
    "\n",
    "Here we'll test the most basic network with 2 hidden layers, ReLU activation function and stochastic gradient descent.\n"
   ]
  },
  {
   "cell_type": "code",
   "execution_count": 15,
   "metadata": {},
   "outputs": [
    {
     "name": "stdout",
     "output_type": "stream",
     "text": [
      "Epoch 24\n",
      "Train accuracy: 0.99996\n",
      "Val accuracy: 0.9806\n"
     ]
    },
    {
     "data": {
      "image/png": "[encoded data removed]",
      "text/plain": [
       "<Figure size 432x288 with 1 Axes>"
      ]
     },
     "metadata": {
      "needs_background": "light"
     },
     "output_type": "display_data"
    }
   ],
   "source": [
    "np.random.seed(21)\n",
    "network1 = Network()\n",
    "network1.addLayer(Dense(X_train.shape[1],100))\n",
    "network1.addLayer(ReLU())\n",
    "network1.addLayer(Dense(100,200))\n",
    "network1.addLayer(ReLU())\n",
    "network1.addLayer(Dense(200,10))\n",
    "\n",
    "training_loop(network1, X_train,y_train,batchsize=32,shuffle=True)"
   ]
  },
  {
   "cell_type": "markdown",
   "metadata": {},
   "source": [
    "Let's see what happens with the same network when we use momentum gradient descent method."
   ]
  },
  {
   "cell_type": "code",
   "execution_count": 16,
   "metadata": {},
   "outputs": [
    {
     "name": "stdout",
     "output_type": "stream",
     "text": [
      "Epoch 24\n",
      "Train accuracy: 0.99982\n",
      "Val accuracy: 0.9797\n"
     ]
    },
    {
     "data": {
      "image/png": "[encoded data removed]",
      "text/plain": [
       "<Figure size 432x288 with 1 Axes>"
      ]
     },
     "metadata": {
      "needs_background": "light"
     },
     "output_type": "display_data"
    }
   ],
   "source": [
    "np.random.seed(21)\n",
    "network2 = Network()\n",
    "network2.addLayer(DenseMomentum(X_train.shape[1],100))\n",
    "network2.addLayer(ReLU())\n",
    "network2.addLayer(DenseMomentum(100,200))\n",
    "network2.addLayer(ReLU())\n",
    "network2.addLayer(DenseMomentum(200,10))\n",
    "\n",
    "training_loop(network2, X_train,y_train,batchsize=32,shuffle=True)"
   ]
  },
  {
   "cell_type": "markdown",
   "metadata": {},
   "source": [
    "The difference between stochastic gradient descent and momentum gradien descent isn't that big, but we can see that in the second case the accuracy does oscillate less, which one should expect from momentum gradient descent since using the exponential average helps with identifying more straightforward path towards minimum in the loss function space. \n",
    "\n",
    "Let's see what happens when we have two deep networks, one that's not using Xavier initialization and one uses Xavier initialization."
   ]
  },
  {
   "cell_type": "code",
   "execution_count": 17,
   "metadata": {},
   "outputs": [
    {
     "name": "stdout",
     "output_type": "stream",
     "text": [
      "Epoch 24\n",
      "Train accuracy: 0.11356\n",
      "Val accuracy: 0.1064\n"
     ]
    },
    {
     "data": {
      "image/png": "[encoded data removed]",
      "text/plain": [
       "<Figure size 432x288 with 1 Axes>"
      ]
     },
     "metadata": {
      "needs_background": "light"
     },
     "output_type": "display_data"
    }
   ],
   "source": [
    "np.random.seed(21)\n",
    "network3 = Network()\n",
    "network3.addLayer(Dense(X_train.shape[1],100))\n",
    "network3.addLayer(ReLU())\n",
    "network3.addLayer(Dense(100,80))\n",
    "network3.addLayer(ReLU())\n",
    "network3.addLayer(Dense(80,40))\n",
    "network3.addLayer(ReLU())\n",
    "network3.addLayer(Dense(40,20))\n",
    "network3.addLayer(ReLU())\n",
    "network3.addLayer(Dense(20,10))\n",
    "\n",
    "training_loop(network3, X_train,y_train,batchsize=32,shuffle=True)"
   ]
  },
  {
   "cell_type": "code",
   "execution_count": 27,
   "metadata": {},
   "outputs": [
    {
     "name": "stdout",
     "output_type": "stream",
     "text": [
      "Epoch 24\n",
      "Train accuracy: 0.99902\n",
      "Val accuracy: 0.979\n"
     ]
    },
    {
     "data": {
      "image/png": "[encoded data removed]",
      "text/plain": [
       "<Figure size 432x288 with 1 Axes>"
      ]
     },
     "metadata": {
      "needs_background": "light"
     },
     "output_type": "display_data"
    }
   ],
   "source": [
    "np.random.seed(21)\n",
    "network4 = Network()\n",
    "network4.addLayer(Dense(X_train.shape[1],100,True))\n",
    "network4.addLayer(ReLU())\n",
    "network4.addLayer(Dense(100,80,True))\n",
    "network4.addLayer(ReLU())\n",
    "network4.addLayer(Dense(80,40,True))\n",
    "network4.addLayer(ReLU())\n",
    "network4.addLayer(Dense(40,20,True))\n",
    "network4.addLayer(ReLU())\n",
    "network4.addLayer(Dense(20,10,True))\n",
    "\n",
    "training_loop(network4, X_train,y_train,batchsize=32,shuffle=True)"
   ]
  },
  {
   "cell_type": "markdown",
   "metadata": {},
   "source": [
    "The difference here is strinking, unlike the first case. Just changing from default initialization to Xavier literaly changed this network from useless to 0.979 accuracy. For given default initialization the weights are too small compared to the number of nodes (note that we've used 0.01 sigma). So what actually happens here? The weights are very small, and this in turn means that almost nothing will activate the relu function. So, pretty much any input produces the same results, that is zero, and because of that, it's hard to see where the function needs to go in order to reach the minimum - can't get to a minimum if our loss function is pretty much the same for any input. This is especially obvous when we have relu and small weights since they all become zero. Let's see what happens when we use sigmoid activation layer.\n",
    "\n"
   ]
  },
  {
   "cell_type": "code",
   "execution_count": 29,
   "metadata": {},
   "outputs": [
    {
     "name": "stdout",
     "output_type": "stream",
     "text": [
      "Epoch 24\n",
      "Train accuracy: 0.11356\n",
      "Val accuracy: 0.1064\n"
     ]
    },
    {
     "data": {
      "image/png": "[encoded data removed]",
      "text/plain": [
       "<Figure size 432x288 with 1 Axes>"
      ]
     },
     "metadata": {
      "needs_background": "light"
     },
     "output_type": "display_data"
    }
   ],
   "source": [
    "np.random.seed(21)\n",
    "network5 = Network()\n",
    "network5.addLayer(Dense(X_train.shape[1],100))\n",
    "network5.addLayer(Sigmoid())\n",
    "network5.addLayer(Dense(100,80))\n",
    "network5.addLayer(Sigmoid())\n",
    "network5.addLayer(Dense(80,40))\n",
    "network5.addLayer(Sigmoid())\n",
    "network5.addLayer(Dense(40,20))\n",
    "network5.addLayer(Sigmoid())\n",
    "network5.addLayer(Dense(20,10))\n",
    "\n",
    "training_loop(network5, X_train,y_train,batchsize=32,shuffle=True)"
   ]
  },
  {
   "cell_type": "markdown",
   "metadata": {},
   "source": [
    "It's a bit different here, after all, different values map into different values in activation function, so there's a way to \"better\" differentiate where one should go. We can see that there is a change in accuracy, but again, the weights are too small, so those differences aren't big enough. \n",
    "\n",
    "And one might say that I've fixed the weights to make it this bad. But the truth is, as soon as I make a different architecture with significantly different number of nodes, the ones I selected as default will become too small or too big. But with Xavier initialization, I do not need to think about fine tuning them at the begining. \n",
    "\n",
    "The idea behind initialization is pretty simple. Make sure that variance is disproportionate to the total number of inputs or inputs and outputs (you'll see both of these definitions, for example [here](https://andyljones.tumblr.com/post/110998971763/an-explanation-of-xavier-initialization)). And it does make perfect sense. \n"
   ]
  },
  {
   "cell_type": "markdown",
   "metadata": {},
   "source": [
    "Finally, let's take the same network and apply everything to it - Xavier initialization, regularization and momentum gradient descent and see what improvements we get."
   ]
  },
  {
   "cell_type": "code",
   "execution_count": 35,
   "metadata": {},
   "outputs": [
    {
     "name": "stdout",
     "output_type": "stream",
     "text": [
      "Epoch 24\n",
      "Train accuracy: 0.95448\n",
      "Val accuracy: 0.9545\n"
     ]
    },
    {
     "data": {
      "image/png": "[encoded data removed]",
      "text/plain": [
       "<Figure size 432x288 with 1 Axes>"
      ]
     },
     "metadata": {
      "needs_background": "light"
     },
     "output_type": "display_data"
    }
   ],
   "source": [
    "np.random.seed(21)\n",
    "network6 = Network()\n",
    "network6.addLayer(Dense(X_train.shape[1],100,True, regularization = 0.01))\n",
    "network6.addLayer(ReLU())\n",
    "network6.addLayer(Dense(100,80,True, regularization = 0.01))\n",
    "network6.addLayer(ReLU())\n",
    "network6.addLayer(Dense(80,40,True, regularization = 0.01))\n",
    "network6.addLayer(ReLU())\n",
    "network6.addLayer(Dense(40,20,True, regularization = 0.01))\n",
    "network6.addLayer(ReLU())\n",
    "network6.addLayer(Dense(20,10,True, regularization = 0.01))\n",
    "\n",
    "training_loop(network6, X_train,y_train,batchsize=32,shuffle=True)"
   ]
  },
  {
   "cell_type": "markdown",
   "metadata": {},
   "source": [
    "We see that when we apply regularization train and actual accuracy become closer, so we can say that accuracy we get on the test set is more realistic."
   ]
  },
  {
   "cell_type": "code",
   "execution_count": null,
   "metadata": {},
   "outputs": [],
   "source": []
  },
  {
   "cell_type": "code",
   "execution_count": null,
   "metadata": {},
   "outputs": [],
   "source": []
  }
 ],
 "metadata": {
  "kernelspec": {
   "display_name": "Python 3",
   "language": "python",
   "name": "python3"
  },
  "language_info": {
   "codemirror_mode": {
    "name": "ipython",
    "version": 3
   },
   "file_extension": ".py",
   "mimetype": "text/x-python",
   "name": "python",
   "nbconvert_exporter": "python",
   "pygments_lexer": "ipython3",
   "version": "3.8.3"
  }
 },
 "nbformat": 4,
 "nbformat_minor": 4
}
